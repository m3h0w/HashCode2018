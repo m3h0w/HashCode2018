{
 "cells": [
  {
   "cell_type": "code",
   "execution_count": 1,
   "metadata": {
    "collapsed": true
   },
   "outputs": [],
   "source": [
    "import numpy as np \n",
    "import pandas as pd"
   ]
  },
  {
   "cell_type": "code",
   "execution_count": 2,
   "metadata": {},
   "outputs": [
    {
     "name": "stdout",
     "output_type": "stream",
     "text": [
      "[[ 0.  0.  1.  3.  2.  9.]\n",
      " [ 1.  2.  1.  0.  0.  9.]\n",
      " [ 2.  0.  2.  2.  0.  9.]]\n",
      "[[ 0.  0.  1.  3.  2.  9.  4.]\n",
      " [ 1.  2.  1.  0.  0.  9.  2.]\n",
      " [ 2.  0.  2.  2.  0.  9.  2.]]\n"
     ]
    },
    {
     "data": {
      "text/plain": [
       "(3, 7)"
      ]
     },
     "execution_count": 2,
     "metadata": {},
     "output_type": "execute_result"
    }
   ],
   "source": [
    "data = np.loadtxt(\"a_example.in\")\n",
    "rows,columns,n_vehicles,n_rides,bonus,steps = data[0,:]\n",
    "actual_data = data[1:,:]\n",
    "#row_start, column_start, row_end, column_end, earliest_start, latest finish\n",
    "print(actual_data)\n",
    "\n",
    "def distance(a,b,c,d):\n",
    "    return abs(a-c) + abs(b-d)\n",
    "\n",
    "distance(actual_data[0,0], actual_data[0,1], actual_data[0,2], actual_data[0,3])\n",
    "\n",
    "all_distance = distance(actual_data[:,0], actual_data[:,1], actual_data[:,2], actual_data[:,3])\n",
    "data_with_distances = np.hstack((actual_data, np.reshape(all_distance, (actual_data.shape[0],1))))\n",
    "print(data_with_distances)\n",
    "data_with_distances.shape"
   ]
  },
  {
   "cell_type": "code",
   "execution_count": 3,
   "metadata": {},
   "outputs": [
    {
     "name": "stdout",
     "output_type": "stream",
     "text": [
      "[[ 0.  0.  1.  3.  2.  9.  4.  5.]\n",
      " [ 1.  2.  1.  0.  0.  9.  2.  7.]\n",
      " [ 2.  0.  2.  2.  0.  9.  2.  7.]]\n"
     ]
    }
   ],
   "source": [
    "#last column is the latest start\n",
    "data_with_latest_start = np.hstack((data_with_distances, np.reshape(data_with_distances[:,5]-data_with_distances[:,-1],(data_with_distances.shape[0],1))))\n",
    "sorted_data = data_with_latest_start[data_with_latest_start[:,-1].argsort()]\n",
    "\n",
    "#data sorted according to the latest start (last column)\n",
    "print(sorted_data)\n"
   ]
  },
  {
   "cell_type": "code",
   "execution_count": 15,
   "metadata": {
    "collapsed": true
   },
   "outputs": [],
   "source": [
    "submit = {'F0':[2, 0, 1],'F1':[1, 2]}"
   ]
  },
  {
   "cell_type": "code",
   "execution_count": 22,
   "metadata": {},
   "outputs": [
    {
     "name": "stdout",
     "output_type": "stream",
     "text": [
      "[ 0.  0.  1.  3.  2.  9.  4.]\n",
      "t less than earliest start 0.0, 2.0\n",
      "[ 1.  2.  1.  0.  0.  9.  2.]\n",
      "[ 2.  0.  2.  2.  0.  9.  2.]\n"
     ]
    },
    {
     "data": {
      "text/plain": [
       "(8.0, 2.0)"
      ]
     },
     "execution_count": 22,
     "metadata": {},
     "output_type": "execute_result"
    }
   ],
   "source": [
    "def calc_points(bonus, rides_data, submission_dict):\n",
    "    assert isinstance(rides_data,(list,np.ndarray))\n",
    "    assert isinstance(submission_dict,dict)\n",
    "    dist_points = 0\n",
    "    bonus_points = 0\n",
    "    \n",
    "    for f in submission_dict.keys():\n",
    "        f_rides = submission_dict[f]\n",
    "        assert len(f_rides) == f_rides[0] + 1, 'First number in list for each vehicle must equal the # of rides, occured for vehicle %s'%f\n",
    "        \n",
    "        f_position = np.array([0,0])\n",
    "        t = 0\n",
    "        for ride_num in f_rides[1:]:\n",
    "            start_row,start_col,end_row,end_col,earliest_start,latest_finish,distance = rides_data[ride_num]\n",
    "            print(rides_data[ride_num])\n",
    "            dist_to_start = np.sum(np.abs(f_position - np.array([start_row,start_col])))\n",
    "            t += dist_to_start\n",
    "            \n",
    "            if t < earliest_start:\n",
    "                print('t less than earliest start %s, %s'%(t, earliest_start))\n",
    "                bonus_points += bonus \n",
    "            \n",
    "            dist_points += distance\n",
    "            t = min(t,earliest_start) + distance\n",
    "            f_position = [end_row,end_col]\n",
    "            \n",
    "            if t > latest_finish:\n",
    "                print('Warning, vehicle %s could not complete ride %s on time, finished at %s, should have finished at %s'%(f,ride_num,t,latest_finish))\n",
    "            \n",
    "    return dist_points, bonus_points\n",
    "            \n",
    "            \n",
    "            \n",
    "        \n",
    "        \n",
    "        \n",
    "    print(bonus, rides_data, submission_dict)\n",
    "calc_points(bonus, data_with_distances, submit)"
   ]
  },
  {
   "cell_type": "code",
   "execution_count": null,
   "metadata": {
    "collapsed": true
   },
   "outputs": [],
   "source": [
    "submit."
   ]
  }
 ],
 "metadata": {
  "kernelspec": {
   "display_name": "Python 3",
   "language": "python",
   "name": "python3"
  },
  "language_info": {
   "codemirror_mode": {
    "name": "ipython",
    "version": 3
   },
   "file_extension": ".py",
   "mimetype": "text/x-python",
   "name": "python",
   "nbconvert_exporter": "python",
   "pygments_lexer": "ipython3",
   "version": "3.6.1"
  }
 },
 "nbformat": 4,
 "nbformat_minor": 1
}
