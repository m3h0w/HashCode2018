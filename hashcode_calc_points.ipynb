{
 "cells": [
  {
   "cell_type": "code",
   "execution_count": 1,
   "metadata": {
    "collapsed": true
   },
   "outputs": [],
   "source": [
    "import numpy as np \n",
    "import pandas as pd"
   ]
  },
  {
   "cell_type": "code",
   "execution_count": 106,
   "metadata": {},
   "outputs": [
    {
     "name": "stdout",
     "output_type": "stream",
     "text": [
      "[[  295  1043   796  1955 38684 51050]\n",
      " [  434   467   200   833 89213 91692]\n",
      " [ 1473  1815  1321   810 17720 26914]\n",
      " ..., \n",
      " [  938  1252  1076  1325   148  1289]\n",
      " [  133  1821    53    95 91282 96580]\n",
      " [  392  1993   493   790 86670 92380]]\n",
      "[[  295  1043   796 ..., 38684 51050  1413]\n",
      " [  434   467   200 ..., 89213 91692   600]\n",
      " [ 1473  1815  1321 ..., 17720 26914  1157]\n",
      " ..., \n",
      " [  938  1252  1076 ...,   148  1289   211]\n",
      " [  133  1821    53 ..., 91282 96580  1806]\n",
      " [  392  1993   493 ..., 86670 92380  1304]]\n"
     ]
    },
    {
     "data": {
      "text/plain": [
       "(10000, 7)"
      ]
     },
     "execution_count": 106,
     "metadata": {},
     "output_type": "execute_result"
    }
   ],
   "source": [
    "data = np.loadtxt(\"e_high_bonus.in\",dtype=int)\n",
    "rows,columns,n_vehicles,n_rides,bonus,steps = data[0,:]\n",
    "actual_data = data[1:,:]\n",
    "#row_start, column_start, row_end, column_end, earliest_start, latest finish\n",
    "print(actual_data)\n",
    "\n",
    "def distance(a,b,c,d):\n",
    "    return abs(a-c) + abs(b-d)\n",
    "\n",
    "distance(actual_data[0,0], actual_data[0,1], actual_data[0,2], actual_data[0,3])\n",
    "\n",
    "all_distance = distance(actual_data[:,0], actual_data[:,1], actual_data[:,2], actual_data[:,3])\n",
    "data_with_distances = np.hstack((actual_data, np.reshape(all_distance, (actual_data.shape[0],1))))\n",
    "print(data_with_distances)\n",
    "data_with_distances.shape"
   ]
  },
  {
   "cell_type": "code",
   "execution_count": 107,
   "metadata": {
    "collapsed": true
   },
   "outputs": [],
   "source": [
    "submit = {}\n",
    "for i in range(n_vehicles):\n",
    "    submit['F%s'%i] = [1,i]\n",
    "    #if i > 32:\n",
    "    #    submit['F%s'%i] = [0]"
   ]
  },
  {
   "cell_type": "code",
   "execution_count": 111,
   "metadata": {},
   "outputs": [
    {
     "data": {
      "text/plain": [
       "766476"
      ]
     },
     "execution_count": 111,
     "metadata": {},
     "output_type": "execute_result"
    }
   ],
   "source": [
    "def calc_points(bonus, rides_data, submission_dict):\n",
    "    assert isinstance(rides_data,(list,np.ndarray))\n",
    "    assert isinstance(submission_dict,dict)\n",
    "    dist_points = 0\n",
    "    bonus_points = 0\n",
    "    \n",
    "    for f in submission_dict.keys():\n",
    "        f_rides = submission_dict[f]\n",
    "        assert len(f_rides) == f_rides[0] + 1, 'First number in list for each vehicle must equal the # of rides, occured for vehicle %s'%f\n",
    "        \n",
    "        f_position = np.array([0,0])\n",
    "        t = 0\n",
    "        for ride_num in f_rides[1:]:\n",
    "            get_bonus = False\n",
    "            start_row,start_col,end_row,end_col,earliest_start,latest_finish = rides_data[ride_num]\n",
    "            distance = abs(end_row - start_row) + abs(end_col - start_col)\n",
    "            #print(rides_data[ride_num])\n",
    "            dist_to_start = np.sum(np.abs(f_position - np.array([start_row,start_col])))\n",
    "            t += dist_to_start\n",
    "            \n",
    "            if t < earliest_start:\n",
    "                #print('t less than earliest start %s, %s'%(t, earliest_start))\n",
    "                bonus_points += bonus \n",
    "                get_bonus=True\n",
    "            \n",
    "            dist_points += distance\n",
    "            t = max(t,earliest_start) + distance\n",
    "            f_position = [end_row,end_col]\n",
    "            \n",
    "            if t > latest_finish:\n",
    "                print('Warning, vehicle %s could not complete ride %s on time, finished at %s, should have finished at %s'%(f,ride_num,t,latest_finish))\n",
    "                dist_points -= distance\n",
    "                if get_bonus == True:\n",
    "                    bonus_points -= bonus\n",
    "            \n",
    "    return dist_points + bonus_points\n",
    "            \n",
    "            \n",
    "        \n",
    "    print(bonus, rides_data, submission_dict)\n",
    "calc_points(bonus, actual_data, submit)"
   ]
  },
  {
   "cell_type": "code",
   "execution_count": 110,
   "metadata": {},
   "outputs": [],
   "source": [
    "def submission_dict_to_file(submission_dict,output_file_name = 'out.txt'):\n",
    "    assert isinstance(submission_dict,dict)\n",
    "    file = ''\n",
    "    for f in submission_dict.keys():\n",
    "        f_rides = [str(int(x)) for x in submission_dict[f]]\n",
    "        file += ' '.join(f_rides)\n",
    "        file += '\\n'\n",
    "    text_file = open(output_file_name, \"w\")\n",
    "    text_file.write(file)\n",
    "    text_file.close()\n",
    "submission_dict_to_file(submit,'e_out.txt')"
   ]
  },
  {
   "cell_type": "code",
   "execution_count": null,
   "metadata": {
    "collapsed": true
   },
   "outputs": [],
   "source": []
  }
 ],
 "metadata": {
  "kernelspec": {
   "display_name": "Python 3",
   "language": "python",
   "name": "python3"
  },
  "language_info": {
   "codemirror_mode": {
    "name": "ipython",
    "version": 3
   },
   "file_extension": ".py",
   "mimetype": "text/x-python",
   "name": "python",
   "nbconvert_exporter": "python",
   "pygments_lexer": "ipython3",
   "version": "3.6.1"
  }
 },
 "nbformat": 4,
 "nbformat_minor": 1
}
