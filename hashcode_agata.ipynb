{
 "cells": [
  {
   "cell_type": "code",
   "execution_count": 1,
   "metadata": {
    "collapsed": true
   },
   "outputs": [],
   "source": [
    "import numpy as np \n",
    "import pandas as pd"
   ]
  },
  {
   "cell_type": "code",
   "execution_count": 48,
   "metadata": {
    "collapsed": false
   },
   "outputs": [
    {
     "name": "stdout",
     "output_type": "stream",
     "text": [
      "Rows: 3.0\n",
      "Columns: 4.0\n",
      "N_vehicles: 2.0\n",
      "N_rides: 3.0\n",
      "Bonus: 2.0\n",
      "Steps: 10.0\n",
      "[[ 0.  0.  1.  3.  2.  9.  4.]\n",
      " [ 1.  2.  1.  0.  0.  9.  2.]\n",
      " [ 2.  0.  2.  2.  0.  9.  2.]]\n"
     ]
    },
    {
     "data": {
      "text/plain": [
       "(3, 7)"
      ]
     },
     "execution_count": 48,
     "metadata": {},
     "output_type": "execute_result"
    }
   ],
   "source": [
    "data = np.loadtxt(\"a_example.in\")\n",
    "rows,columns,n_vehicles,n_rides,bonus,steps = data[0,:]\n",
    "actual_data = data[1:,:]\n",
    "#row_start, column_start, row_end, column_end, earliest_start, latest finish\n",
    "# print(actual_data)\n",
    "\n",
    "def distance(a,b,c,d):\n",
    "    return abs(a-c) + abs(b-d)\n",
    "\n",
    "distance(actual_data[0,0], actual_data[0,1], actual_data[0,2], actual_data[0,3])\n",
    "\n",
    "\n",
    "print(\"Rows:\", rows)\n",
    "print(\"Columns:\", columns)\n",
    "print(\"N_vehicles:\", n_vehicles)\n",
    "print(\"N_rides:\", n_rides)\n",
    "print(\"Bonus:\", bonus)\n",
    "print(\"Steps:\", steps)\n",
    "\n",
    "all_distance = distance(actual_data[:,0], actual_data[:,1], actual_data[:,2], actual_data[:,3])\n",
    "data_with_distances = np.hstack((actual_data, np.reshape(all_distance, (actual_data.shape[0],1))))\n",
    "\n",
    "\n",
    "\n",
    "print(data_with_distances)\n",
    "data_with_distances.shape"
   ]
  },
  {
   "cell_type": "code",
   "execution_count": 30,
   "metadata": {
    "collapsed": false
   },
   "outputs": [
    {
     "name": "stdout",
     "output_type": "stream",
     "text": [
      "[[ 0.  0.  1.  3.  2.  9.  4.  5.]\n",
      " [ 1.  2.  1.  0.  0.  9.  2.  7.]\n",
      " [ 2.  0.  2.  2.  0.  9.  2.  7.]]\n"
     ]
    }
   ],
   "source": [
    "#last column is the latest start\n",
    "data_with_latest_start = np.hstack((data_with_distances, np.reshape(data_with_distances[:,5]-data_with_distances[:,-1],(data_with_distances.shape[0],1))))\n",
    "sorted_data = data_with_latest_start[data_with_latest_start[:,-1].argsort()]\n",
    "\n",
    "#data sorted according to the latest start (last column)\n",
    "print(sorted_data)\n"
   ]
  },
  {
   "cell_type": "code",
   "execution_count": 36,
   "metadata": {
    "collapsed": false
   },
   "outputs": [
    {
     "data": {
      "text/plain": [
       "array([   800.,   1000.,    100.,    300.,     25.,  25000.])"
      ]
     },
     "execution_count": 36,
     "metadata": {},
     "output_type": "execute_result"
    }
   ],
   "source": [
    "# data2 = np.loadtxt(\"b_should_be_easy.in\")\n",
    "# data2[0]"
   ]
  },
  {
   "cell_type": "code",
   "execution_count": 112,
   "metadata": {
    "collapsed": false
   },
   "outputs": [
    {
     "name": "stdout",
     "output_type": "stream",
     "text": [
      "(3, 2)\n",
      "[ 2.  0.  0.]\n",
      "2\n",
      "3\n",
      "(3, 2)\n",
      "[[ 0.  0.]\n",
      " [ 0.  0.]\n",
      " [ 0.  0.]]\n",
      "[[ 2.  2.]\n",
      " [-3. -3.]\n",
      " [-2. -2.]]\n"
     ]
    }
   ],
   "source": [
    "#initialize if the car is occupied\n",
    "\n",
    "def car_distance(ride_coords, car_coords):\n",
    "    distances = []\n",
    "    for car in car_coords:\n",
    "        curr_dist = abs(ride_coords - car)\n",
    "        distances.append(np.sum(curr_dist, axis=1))\n",
    "    return np.array(distances)\n",
    "\n",
    "#occupied\n",
    "occupied = [0 for x in range(int(n_vehicles))]\n",
    "car_last_coordinates = np.array([[0,0] for x in range(int(n_vehicles))])\n",
    "# print(last_coordinates.shape)\n",
    "starting_coords_rides = np.array([actual_data[:,0], actual_data[:,1]]).T\n",
    "print(starting_coords_rides.shape)\n",
    "distances = car_distance(starting_coords_rides, car_last_coordinates)\n",
    "# print(distances)\n",
    "when_earliest = actual_data[:,4]\n",
    "print(when_earliest)\n",
    "cost=np.zeros((int(n_rides), int(n_vehicles)))\n",
    "print(len(distances))\n",
    "print(len(when_earliest))\n",
    "print(cost.shape)\n",
    "print(cost-occupied)\n",
    "# cost = occupied \n",
    "cost = (cost.T - distances + when_earliest).T + np.array(occupied)\n",
    "print(cost)"
   ]
  },
  {
   "cell_type": "code",
   "execution_count": null,
   "metadata": {
    "collapsed": true
   },
   "outputs": [],
   "source": [
    "for x in range(steps):\n",
    "    "
   ]
  }
 ],
 "metadata": {
  "kernelspec": {
   "display_name": "Python [Root]",
   "language": "python",
   "name": "Python [Root]"
  },
  "language_info": {
   "codemirror_mode": {
    "name": "ipython",
    "version": 3
   },
   "file_extension": ".py",
   "mimetype": "text/x-python",
   "name": "python",
   "nbconvert_exporter": "python",
   "pygments_lexer": "ipython3",
   "version": "3.5.2"
  }
 },
 "nbformat": 4,
 "nbformat_minor": 0
}
