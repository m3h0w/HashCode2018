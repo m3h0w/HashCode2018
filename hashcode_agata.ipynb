{
 "cells": [
  {
   "cell_type": "code",
   "execution_count": 1,
   "metadata": {
    "collapsed": true
   },
   "outputs": [],
   "source": [
    "import numpy as np \n",
    "import pandas as pd"
   ]
  },
  {
   "cell_type": "code",
   "execution_count": 18,
   "metadata": {
    "collapsed": false
   },
   "outputs": [
    {
     "name": "stdout",
     "output_type": "stream",
     "text": [
      "[[ 0.  0.  1.  3.  2.  9.]\n",
      " [ 1.  2.  1.  0.  0.  9.]\n",
      " [ 2.  0.  2.  2.  0.  9.]]\n",
      "[[ 0.  0.  1.  3.  2.  9.  4.]\n",
      " [ 1.  2.  1.  0.  0.  9.  2.]\n",
      " [ 2.  0.  2.  2.  0.  9.  2.]]\n"
     ]
    },
    {
     "data": {
      "text/plain": [
       "(3, 7)"
      ]
     },
     "execution_count": 18,
     "metadata": {},
     "output_type": "execute_result"
    }
   ],
   "source": [
    "data = np.loadtxt(\"a_example.in\")\n",
    "rows,columns,n_vehicles,n_rides,bonus,steps = data[0,:]\n",
    "actual_data = data[1:,:]\n",
    "#row_start, column_start, row_end, column_end, earliest_start, latest finish\n",
    "print(actual_data)\n",
    "\n",
    "def distance(a,b,c,d):\n",
    "    return abs(a-c) + abs(b-d)\n",
    "\n",
    "distance(actual_data[0,0], actual_data[0,1], actual_data[0,2], actual_data[0,3])\n",
    "\n",
    "all_distance = distance(actual_data[:,0], actual_data[:,1], actual_data[:,2], actual_data[:,3])\n",
    "data_with_distances = np.hstack((actual_data, np.reshape(all_distance, (actual_data.shape[0],1))))\n",
    "print(data_with_distances)\n",
    "data_with_distances.shape"
   ]
  },
  {
   "cell_type": "code",
   "execution_count": 30,
   "metadata": {
    "collapsed": false
   },
   "outputs": [
    {
     "name": "stdout",
     "output_type": "stream",
     "text": [
      "[[ 0.  0.  1.  3.  2.  9.  4.  5.]\n",
      " [ 1.  2.  1.  0.  0.  9.  2.  7.]\n",
      " [ 2.  0.  2.  2.  0.  9.  2.  7.]]\n"
     ]
    }
   ],
   "source": [
    "#last column is the latest start\n",
    "data_with_latest_start = np.hstack((data_with_distances, np.reshape(data_with_distances[:,5]-data_with_distances[:,-1],(data_with_distances.shape[0],1))))\n",
    "sorted_data = data_with_latest_start[data_with_latest_start[:,-1].argsort()]\n",
    "\n",
    "#data sorted according to the latest start (last column)\n",
    "print(sorted_data)\n"
   ]
  },
  {
   "cell_type": "code",
   "execution_count": null,
   "metadata": {
    "collapsed": false
   },
   "outputs": [],
   "source": []
  },
  {
   "cell_type": "code",
   "execution_count": null,
   "metadata": {
    "collapsed": true
   },
   "outputs": [],
   "source": []
  }
 ],
 "metadata": {
  "kernelspec": {
   "display_name": "Python [Root]",
   "language": "python",
   "name": "Python [Root]"
  },
  "language_info": {
   "codemirror_mode": {
    "name": "ipython",
    "version": 3
   },
   "file_extension": ".py",
   "mimetype": "text/x-python",
   "name": "python",
   "nbconvert_exporter": "python",
   "pygments_lexer": "ipython3",
   "version": "3.5.2"
  }
 },
 "nbformat": 4,
 "nbformat_minor": 0
}
